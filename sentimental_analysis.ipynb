{
  "nbformat": 4,
  "nbformat_minor": 0,
  "metadata": {
    "colab": {
      "name": "sentimental analysis.ipynb",
      "provenance": [],
      "authorship_tag": "ABX9TyNO1H/W7FcLyBXLE/skrybs",
      "include_colab_link": true
    },
    "kernelspec": {
      "name": "python3",
      "display_name": "Python 3"
    },
    "language_info": {
      "name": "python"
    }
  },
  "cells": [
    {
      "cell_type": "markdown",
      "metadata": {
        "id": "view-in-github",
        "colab_type": "text"
      },
      "source": [
        "<a href=\"https://colab.research.google.com/github/naidusaladi/PYTHON_PROJECTS/blob/main/sentimental_analysis.ipynb\" target=\"_parent\"><img src=\"https://colab.research.google.com/assets/colab-badge.svg\" alt=\"Open In Colab\"/></a>"
      ]
    },
    {
      "cell_type": "code",
      "source": [
        "import pandas as pd\n",
        "from sklearn.model_selection import train_test_split\n",
        "dataset=pd.read_csv(\"Restaurant_Reviews.tsv\",sep = '\\t')\n"
      ],
      "metadata": {
        "id": "NjILp89lJJ_P"
      },
      "execution_count": 45,
      "outputs": []
    },
    {
      "cell_type": "code",
      "source": [
        "X=dataset['Review'].values\n",
        "Y=dataset['Liked'].values\n",
        "X_train,X_test,y_train,y_test=train_test_split(X,Y,test_size=0.3,random_state=100)\n"
      ],
      "metadata": {
        "id": "GT-Mby99JMTt"
      },
      "execution_count": 46,
      "outputs": []
    },
    {
      "cell_type": "code",
      "execution_count": 47,
      "metadata": {
        "id": "9d2-QTx91roY",
        "colab": {
          "base_uri": "https://localhost:8080/",
          "height": 70
        },
        "outputId": "51a3c480-e7a5-4a14-bec3-9286dccea11b"
      },
      "outputs": [
        {
          "output_type": "execute_result",
          "data": {
            "text/plain": [
              "'X_train=[\"This was a awesome an awesome and awesome movie\",\\n         \"Grate movie! I liked it a lot\",\\n         \"Happy Ending! awesome acting by the hero\",\\n         \"loved it! truly great\",\\n         \"Bad not upto the mark\",\\n         \"could have been better\",\\n         \"Surely a dissappointing movie\"]\\ny_train=[1,1,1,1,0,0,0]\\n'"
            ],
            "application/vnd.google.colaboratory.intrinsic+json": {
              "type": "string"
            }
          },
          "metadata": {},
          "execution_count": 47
        }
      ],
      "source": [
        "\n",
        "'''X_train=[\"This was a awesome an awesome and awesome movie\",\n",
        "         \"Grate movie! I liked it a lot\",\n",
        "         \"Happy Ending! awesome acting by the hero\",\n",
        "         \"loved it! truly great\",\n",
        "         \"Bad not upto the mark\",\n",
        "         \"could have been better\",\n",
        "         \"Surely a dissappointing movie\"]\n",
        "y_train=[1,1,1,1,0,0,0]\n",
        "'''"
      ]
    },
    {
      "cell_type": "code",
      "source": [
        "from nltk.tokenize import RegexpTokenizer\n",
        "from nltk.stem.porter import PorterStemmer\n",
        "from nltk.corpus import stopwords\n",
        "import nltk\n",
        "nltk.download('stopwords')"
      ],
      "metadata": {
        "colab": {
          "base_uri": "https://localhost:8080/"
        },
        "id": "U2W4e9Xw3v57",
        "outputId": "2eff7c5a-425e-414b-8a81-d56ffff85e06"
      },
      "execution_count": 48,
      "outputs": [
        {
          "output_type": "stream",
          "name": "stderr",
          "text": [
            "[nltk_data] Downloading package stopwords to /root/nltk_data...\n",
            "[nltk_data]   Package stopwords is already up-to-date!\n"
          ]
        },
        {
          "output_type": "execute_result",
          "data": {
            "text/plain": [
              "True"
            ]
          },
          "metadata": {},
          "execution_count": 48
        }
      ]
    },
    {
      "cell_type": "code",
      "source": [
        "tokenizer1=RegexpTokenizer(r'\\w+')\n",
        "en_stopwords=set(stopwords.words('english'))\n",
        "ps=PorterStemmer()"
      ],
      "metadata": {
        "id": "8JrlkwLn3qw7"
      },
      "execution_count": 49,
      "outputs": []
    },
    {
      "cell_type": "code",
      "source": [
        "def getCleandText(text):\n",
        "  \n",
        "  text=text.lower()\n",
        "  tokens=tokenizer1.tokenize(text)\n",
        "  new_token=[]\n",
        "  for i in tokens:\n",
        "    if i not in en_stopwords:\n",
        "      new_token.append(i)\n",
        "  stemmed_tokens=[ps.stem(tokens)for tokens in new_token]\n",
        "  clean_text=\" \".join(stemmed_tokens)\n",
        "  return clean_text\n",
        "\n",
        "x_clean=[getCleandText(i) for i in X_train]\n",
        "xt_clean=[getCleandText(i) for i in X_test]\n",
        "print(xt_clean)"
      ],
      "metadata": {
        "colab": {
          "base_uri": "https://localhost:8080/"
        },
        "id": "RsZPyYpk5frS",
        "outputId": "11e2c74f-24a9-43ec-dfdd-a1fbd2221ad0"
      },
      "execution_count": 50,
      "outputs": [
        {
          "output_type": "stream",
          "name": "stdout",
          "text": [
            "['base sub par servic receiv effort show gratitud busi go back', 'take 30 min pancak egg', 'great steak great side great wine amaz dessert', 'mistak', 'gener portion great tast', 'thought ventur away get good sushi place realli hit spot night', 'wors humili worker right front bunch horribl name call', 'guess mayb went night disgrac', 'food averag', 'place lack style', 'high qualiti chicken chicken caesar salad', 'great time famili dinner sunday night', 'menu alway chang food qualiti go servic extrem slow', 'sushi lover avoid place mean', 'fli appl juic fli', 'summar food incred nay transcend noth bring joy quit like memori pneumat condiment dispens', 'server pleasant deal alway honor pizza hut coupon', 'ri style calamari joke', 'bu boy hand rude', 'staff alway super friendli help especi cool bring two small boy babi', 'food came disappoint ensu', 'soggi good', 'food par denni say good', 'frozen puck disgust worst peopl behind regist', 'pretti gross', 'good joint', 'burger good pizza use amaz doughi flavorless', 'want sandwich go firehous', 'good time', 'join club get awesom offer via email', 'mayb vegetarian fare twice thought averag best', 'weekli haunt definit place come back everi', 'never insult felt disrespect', 'servic par either', 'food good', 'tri airport experi tasti food speedi friendli servic', 'wonton thin thick chewi almost melt mouth', 'tonight elk filet special suck', 'restaur alway full never wait', 'due fact took 20 minut acknowledg anoth 35 minut get food kept forget thing', 'realli vega fine dine use right menu hand ladi price list', 'staff friendli joint alway clean', 'servic bit lack', 'awesom', 'steak amaz rge fillet relleno best seafood plate ever', 'place first pho amaz', 'boy sucker dri', 'kind hard mess steak', 'serious killer hot chai latt', 'ask bill leav without eat bring either', 'lordi khao soi dish miss curri lover', 'servic fair best', 'rude inconsider manag', 'fantast food', 'lobster bisqu bussel sprout risotto filet need salt pepper cours none tabl', 'posit note server attent provid great servic', 'cashier friendli even brought food', 'yellowtail carpaccio melt mouth fresh', 'warm feel servic felt like guest special treat', 'like review said pay eat place', 'place receiv star appet', 'tri go back even empti', 'far best cheesecurd ever', 'perform', 'even hello right', 'account know get screw', 'walk place smell like old greas trap 2 other eat', 'order voodoo pasta first time realli excel pasta sinc go gluten free sever year ago', 'select food best', 'food delici spici enough sure ask spicier prefer way', 'tapa dish delici', 'food good typic bar food', 'place fairli clean food simpli worth', 'food rich order accordingli', 'great place relax awesom burger beer', 'shrimp tender moist', 'good servic clean inexpens boot', 'place pretti good nice littl vibe restaur', 'pretti good beer select', 'fact go round 4 star awesom', 'conveni sinc stay mgm', 'pretti satifi experi', 'staff attent', 'bad food damn gener', 'food delici', 'complet gross', 'overal like food servic', 'also best chees crisp town', 'like', 'eat', 'great dinner', 'good price', 'thoroughli disappoint', 'came run us realiz husband left sunglass tabl', 'buffet small food offer bland', 'heart place', 'delici nyc bagel good select cream chees real lox caper even', 'good thing waiter help kept bloddi mari come', 'plu 8 buck', 'pleas stay away shrimp stir fri noodl', 'four star food guy blue shirt great vibe still let us eat', 'order correct', 'everyon attent provid excel custom servic', 'terribl servic', 'best servic food ever maria server good friendli made day', 'good year ago', 'food great serivc', 'never come', 'said mouth belli still quit pleas', 'vanilla ice cream creami smooth profiterol choux pastri fresh enough', 'red curri much bamboo shoot tasti', 'manag rude', 'good lunch spot', 'price reason flavor spot sauc home made slaw drench mayo', 'food terribl', 'order toast english muffin came untoast', 'deal good enough would drag establish', 'much better ayc sushi place went vega', 'bother come', 'best tater tot southwest', 'worst food servic', 'go back', 'servic quick friendli', 'bathroom next door nice', 'place eat circumst would ever return top list', 'ambianc incred', 'watch waiter pay lot attent tabl ignor us', 'never ever go back', 'food came good pace', 'happi', 'better atmospher', 'egg roll fantast', 'busi know', 'ambienc wonder music play', 'seafood fresh gener portion', 'think go back anytim soon', 'even drastic sick', 'avoid cost', 'assur disappoint', 'awesom', 'season fruit fresh white peach pure', 'food excel servic good', 'manag worst', 'worst experi ever', 'ryan bar definit one edinburgh establish revisit', 'perhap caught night judg review inspir go back', 'food delici bartend attent person got great deal', 'servic also cute', 'self proclaim coffe cafe wildli disappoint', 'alway pleasur deal', 'waiter jerk', 'one tabl thought food averag worth wait', 'appetit instantli gone', 'great food', 'order albondiga soup warm tast like tomato soup frozen meatbal', 'order appet took 40 minut pizza anoth 10 minut', 'servic terribl food mediocr', 'made drive way north scottsdal one bit disappoint', 'mistak', 'host staff lack better word bitch', 'much pasta love homemad hand made pasta thin pizza', 'reason eat would fill night bing drink get carb stomach', 'also fri without doubt worst fri ever', 'black eye pea sweet potato unreal', 'realli nice atmospher', 'bean rice mediocr best', 'absolut must visit', 'cook perfect servic impecc', 'plethora salad sandwich everyth tri get seal approv', 'weird vibe owner', 'nargil think great', 'friendli staff', 'highli unprofession rude loyal patron', 'food arriv quickli', 'excel restaur highlight great servic uniqu menu beauti set', 'servic meh', 'go back', 'two bite refus eat anymor', 'terribl manag', 'perfect sit famili meal get togeth friend', 'nice ambianc', 'frozen margarita way sugari tast', 'summer dine charm outdoor patio delight', 'one bite hook', 'server nice attent serv staff', 'good', 'goat taco skimp meat wow flavor', 'took 30 min get milkshak noth chocol milk', 'realli enjoy eat', 'differ cut piec day still wonder tender well well flavor', 'ambianc much better', 'heard good thing place exceed everi hope could dream', 'love fri bean', 'tri like place 10 time think done', 'steak 100 recommend', 'damn good steak', 'place lot promis fail deliv', 'real sushi lover let honest yama good', 'took hour get food 4 tabl restaur food luke warm sever run around like total overwhelm', 'golden crispi delici', 'fantast neighborhood gem', 'best fish ever life', 'unfortun must hit bakeri leftov day everyth order stale', 'love authent mexican food want whole bunch interest yet delici meat choos need tri place', 'great place highli recommend', 'googl mediocr imagin smashburg pop', 'right red velvet cake ohhh stuff good', 'today first tast buldogi gourmet hot dog tell ever thought possibl', 'go sinc 2007 everi meal awesom', 'good money', 'love place hit spot want someth healthi lack quantiti flavor', 'love mussel cook wine reduct duck tender potato dish delici', 'server fantast found wife love roast garlic bone marrow ad extra meal anoth marrow go', 'place hand one best place eat phoenix metro area', 'love bacon wrap date', 'definit come back', 'servic prompt', 'chicken wing contain driest chicken meat ever eaten', 'one best bar food vega', 'pizza select good', 'mention combin pear almond bacon big winner', 'also serv hot bread butter home made potato chip bacon bit top origin good', 'never go back place never ever recommend place anyon', 'realli impress strip steak', 'everyth menu terrif also thrill made amaz accommod vegetarian daughter', 'salad bland vinegrett babi green heart palm', 'folk otto alway make us feel welcom special', 'crostini came salad stale', 'talk great custom servic cours back', 'owner realli realli need quit soooooo cheap let wrap freak sandwich two paper one', 'place amaz', 'problem charg 11 99 sandwich bigger subway sub offer better amount veget', 'jamaican mojito delici', 'heart attack grill downtown vega absolut flat line excus restaur', 'sauc tasteless', 'realli like crepe station', 'servic fan quick serv nice folk', 'love sushi found kabuki price hip servic', 'hot sour egg flower soup absolut 5 star', 'found six inch long piec wire salsa', 'dont think back long time', 'took back money got outta', 'back mani time soon', 'tough short flavor', 'strike 2 want rush', 'owner super friendli staff courteou', 'last 3 time lunch bad', 'total letdown would much rather go camelback flower shop cartel coffe', 'got food poison buffet', 'bad day low toler rude custom servic peopl job nice polit wash dish otherwis', 'come back', 'wait forti five minut vain', 'could bare stomach meal complain busi lunch', 'rather eat airlin food serious', 'needless say go back anytim soon', 'price think place would much rather gone', 'disbelief dish qualifi worst version food ever tast', 'promis disappoint', 'decor nice piano music soundtrack pleasant', 'go back next trip', 'found place accid could happier', 'best place go tasti bowl pho', 'left frustrat', 'beat', 'portion huge', 'sat right time server get go fantast', 'love place', 'serious cannot believ owner mani unexperienc employe run around like chicken head cut', 'bartend also nice', 'could care less interior beauti', 'call steakhous properli cook steak understand', 'sooooo good', 'mac salad pretti bland get', '7 tabl servic pretti fast', 'server went back forth sever time even much help', 'staff spend time talk', 'sushi strip place go', 'want healthi authent ethic food tri place', 'mom got home immedi got sick bite salad', 'got enjoy seafood salad fabul vinegrett', 'came back today sinc reloc still impress', 'eat', 'cow tongu cheek taco amaz', 'great place fo take eat', 'servic give star', 'live sinc 1979 first last time step foot place', 'dont go', 'seafood limit boil shrimp crab leg crab leg definit tast fresh', 'cashier care ever say still end wayyy overpr', 'wait hour breakfast could done 100 time better home', 'wife hate meal coconut shrimp friend realli enjoy meal either', 'drive thru mean want wait around half hour food somehow end go make us wait wait', 'wait wait', 'swung give tri deepli disappoint', 'greek dress creami flavor', 'salad wing ice cream dessert left feel quit satisfi', 'food way overpr portion fuck small', 'server suck wait correct server heimer suck', 'great brunch spot', 'complaint']\n"
          ]
        }
      ]
    },
    {
      "cell_type": "code",
      "source": [
        "from sklearn.feature_extraction.text import CountVectorizer\n",
        "cv=CountVectorizer(ngram_range=(1,2))\n",
        "X_vec=cv.fit_transform(x_clean).toarray()\n",
        "print(X_vec)"
      ],
      "metadata": {
        "colab": {
          "base_uri": "https://localhost:8080/"
        },
        "id": "thxJrZSeEoGc",
        "outputId": "69859822-f41a-46ee-899a-0324a45e2b43"
      },
      "execution_count": 51,
      "outputs": [
        {
          "output_type": "stream",
          "name": "stdout",
          "text": [
            "[[0 0 0 ... 0 0 0]\n",
            " [0 0 0 ... 0 0 0]\n",
            " [0 0 0 ... 0 0 0]\n",
            " ...\n",
            " [0 0 0 ... 0 0 0]\n",
            " [0 0 0 ... 0 0 0]\n",
            " [0 0 0 ... 0 0 0]]\n"
          ]
        }
      ]
    },
    {
      "cell_type": "code",
      "source": [
        "xt_vect=cv.transform(xt_clean).toarray()\n",
        "print(xt_vect)"
      ],
      "metadata": {
        "colab": {
          "base_uri": "https://localhost:8080/"
        },
        "id": "EOY0FCqCGVqn",
        "outputId": "81e11ab3-0c0e-4381-ee22-407f8ed6b118"
      },
      "execution_count": 52,
      "outputs": [
        {
          "output_type": "stream",
          "name": "stdout",
          "text": [
            "[[0 0 0 ... 0 0 0]\n",
            " [0 0 0 ... 0 0 0]\n",
            " [0 0 0 ... 0 0 0]\n",
            " ...\n",
            " [0 0 0 ... 0 0 0]\n",
            " [0 0 0 ... 0 0 0]\n",
            " [0 0 0 ... 0 0 0]]\n"
          ]
        }
      ]
    },
    {
      "cell_type": "code",
      "source": [
        "from sklearn.naive_bayes import MultinomialNB\n",
        "mn=MultinomialNB()\n",
        "mn.fit(X_vec,y_train)\n",
        "y_pred=mn.predict(xt_vect)\n",
        "print(y_pred)\n",
        "from sklearn.metrics import accuracy_score \n",
        "acc=accuracy_score(y_test,y_pred)\n",
        "print(acc)"
      ],
      "metadata": {
        "colab": {
          "base_uri": "https://localhost:8080/"
        },
        "id": "GBx0QONiGxkY",
        "outputId": "b3deb80b-0cf4-4c1b-bd74-5539b3b39ab9"
      },
      "execution_count": 53,
      "outputs": [
        {
          "output_type": "stream",
          "name": "stdout",
          "text": [
            "[0 0 1 0 1 1 0 0 0 0 1 1 0 0 0 0 1 0 0 1 0 1 1 0 0 1 1 0 1 1 1 1 0 0 1 1 0\n",
            " 0 0 0 1 1 0 1 1 1 0 1 0 0 1 1 0 1 0 1 1 1 0 0 1 0 1 0 1 0 0 1 1 1 1 1 0 0\n",
            " 1 1 1 1 1 1 0 1 1 0 1 0 1 1 0 0 1 1 0 0 0 0 1 0 1 1 1 0 1 0 1 0 1 0 1 1 0\n",
            " 0 1 1 0 1 1 0 0 1 0 0 1 0 0 1 0 0 1 1 1 1 0 1 1 0 0 0 0 1 1 1 0 0 1 0 1 1\n",
            " 0 1 0 0 1 1 0 0 0 0 0 0 1 0 0 1 1 0 1 1 1 1 1 1 0 0 1 0 0 0 0 1 1 0 1 0 1\n",
            " 1 0 0 1 1 0 1 1 0 1 1 1 1 0 1 1 0 1 1 1 0 1 0 1 0 1 1 1 1 1 1 1 0 1 1 0 1\n",
            " 0 1 1 0 0 0 0 1 1 1 1 0 0 0 1 1 0 0 0 0 0 0 0 1 0 0 0 0 1 0 0 0 0 0 0 0 1\n",
            " 0 1 1 0 0 1 1 1 1 1 1 1 1 0 1 1 0 1 1 0 0 1 0 1 1 0 1 0 0 0 0 0 0 0 0 1 1\n",
            " 0 0 1 0]\n",
            "0.79\n"
          ]
        }
      ]
    }
  ]
}